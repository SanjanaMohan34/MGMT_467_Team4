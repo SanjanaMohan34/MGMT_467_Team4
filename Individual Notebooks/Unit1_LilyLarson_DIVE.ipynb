{
  "cells": [
    {
      "cell_type": "markdown",
      "metadata": {
        "id": "view-in-github",
        "colab_type": "text"
      },
      "source": [
        "<a href=\"https://colab.research.google.com/github/SanjanaMohan34/MGMT_467_Team4/blob/main/Individual%20Notebooks/Unit1_LilyLarson_DIVE.ipynb\" target=\"_parent\"><img src=\"https://colab.research.google.com/assets/colab-badge.svg\" alt=\"Open In Colab\"/></a>"
      ]
    },
    {
      "cell_type": "code",
      "metadata": {
        "id": "50ff7266"
      },
      "source": [
        "from google.colab import auth\n",
        "auth.authenticate_user()\n",
        "from google.cloud import bigquery"
      ],
      "execution_count": null,
      "outputs": []
    },
    {
      "cell_type": "markdown",
      "source": [
        "## Key Performance Indicators"
      ],
      "metadata": {
        "id": "y1bTNm0TCCjl"
      }
    },
    {
      "cell_type": "markdown",
      "source": [
        "**Average Trip Duration**"
      ],
      "metadata": {
        "id": "gjS3ONPq6NAM"
      }
    },
    {
      "cell_type": "code",
      "metadata": {
        "id": "194542e8"
      },
      "source": [
        "project_id = 'directed-bongo-471119-d1'\n",
        "client = bigquery.Client(project=project_id)\n",
        "\n",
        "sql = \"\"\"\n",
        "SELECT\n",
        "    AVG(tripduration) AS avg_trip_duration\n",
        "FROM\n",
        "    `bigquery-public-data.new_york.citibike_trips`\n",
        "\"\"\"\n",
        "\n",
        "query_job = client.query(sql)\n",
        "results = query_job.result()\n",
        "\n",
        "for row in results:\n",
        "    avg_trip_duration = row['avg_trip_duration']\n",
        "    trip_dur_min = avg_trip_duration / 60\n",
        "    print(f\"Average Trip Duration: {avg_trip_duration:.2f} seconds\")\n",
        "    print(f\"Average Trip Duration: {trip_dur_min:.2f} minutes\")"
      ],
      "execution_count": null,
      "outputs": []
    },
    {
      "cell_type": "markdown",
      "source": [
        "**Number of Trips per Year**"
      ],
      "metadata": {
        "id": "0iV95aBoChQe"
      }
    },
    {
      "cell_type": "code",
      "source": [
        "%%bigquery --project directed-bongo-471119-d1\n",
        "\n",
        "SELECT EXTRACT(YEAR FROM starttime) AS trip_year, COUNT(*) AS num_trips\n",
        "FROM `bigquery-public-data.new_york.citibike_trips`\n",
        "GROUP BY trip_year\n",
        "ORDER BY trip_year;"
      ],
      "metadata": {
        "id": "-mTbStrSCm_4"
      },
      "execution_count": null,
      "outputs": []
    },
    {
      "cell_type": "markdown",
      "source": [
        "**Most Popular Ending Station**"
      ],
      "metadata": {
        "id": "g1J1IlSP6UUH"
      }
    },
    {
      "cell_type": "code",
      "source": [
        "%%bigquery --project directed-bongo-471119-d1\n",
        "SELECT end_station_name, COUNT(*) AS trip_count\n",
        "FROM `bigquery-public-data.new_york.citibike_trips`\n",
        "GROUP BY end_station_name\n",
        "ORDER BY trip_count DESC\n",
        "LIMIT 20;"
      ],
      "metadata": {
        "id": "fKWdbQQW4XBO"
      },
      "execution_count": null,
      "outputs": []
    },
    {
      "cell_type": "markdown",
      "source": [
        "# Year over Year Changes in KPIs"
      ],
      "metadata": {
        "id": "i2HiWj8fCWhg"
      }
    },
    {
      "cell_type": "markdown",
      "source": [
        "**Year over Year Growth of Average Trip Duration**"
      ],
      "metadata": {
        "id": "aL6XLftx6mgL"
      }
    },
    {
      "cell_type": "code",
      "source": [
        "%%bigquery --project directed-bongo-471119-d1\n",
        "WITH YearlyAvgTripDuration AS (\n",
        "    SELECT\n",
        "        EXTRACT(YEAR FROM starttime) AS trip_year,\n",
        "        AVG(tripduration) AS avg_trip_duration\n",
        "    FROM\n",
        "        `bigquery-public-data.new_york.citibike_trips`\n",
        "    WHERE\n",
        "        EXTRACT(YEAR FROM starttime) IS NOT NULL\n",
        "    GROUP BY\n",
        "        trip_year\n",
        ")\n",
        "SELECT\n",
        "    trip_year,\n",
        "    avg_trip_duration,\n",
        "    (avg_trip_duration - LAG(avg_trip_duration, 1) OVER (ORDER BY trip_year)) AS year_over_year_change,\n",
        "    SAFE_DIVIDE((avg_trip_duration - LAG(avg_trip_duration, 1) OVER (ORDER BY trip_year)), LAG(avg_trip_duration, 1) OVER (ORDER BY trip_year)) * 100 AS year_over_year_growth_percent,\n",
        "    LAG(avg_trip_duration, 1) OVER (ORDER BY trip_year) AS prev_year_avg_trip_duration\n",
        "FROM\n",
        "    YearlyAvgTripDuration\n",
        "ORDER BY\n",
        "    trip_year;"
      ],
      "metadata": {
        "id": "kIOGivFd5SEz"
      },
      "execution_count": null,
      "outputs": []
    },
    {
      "cell_type": "markdown",
      "source": [
        "**Year over Year Growth of Number of Trips**"
      ],
      "metadata": {
        "id": "E57mpcPD-ZQU"
      }
    },
    {
      "cell_type": "code",
      "source": [
        "%%bigquery --project directed-bongo-471119-d1\n",
        "WITH YearlyTripCount AS (\n",
        "    SELECT\n",
        "        EXTRACT(YEAR FROM starttime) AS trip_year,\n",
        "        COUNT(*) AS num_trips\n",
        "    FROM\n",
        "        `bigquery-public-data.new_york.citibike_trips`\n",
        "    WHERE\n",
        "        EXTRACT(YEAR FROM starttime) IS NOT NULL\n",
        "    GROUP BY\n",
        "        trip_year\n",
        ")\n",
        "SELECT\n",
        "    trip_year,\n",
        "    num_trips,\n",
        "    (num_trips - LAG(num_trips, 1) OVER (ORDER BY trip_year)) AS year_over_year_change,\n",
        "    SAFE_DIVIDE((num_trips - LAG(num_trips, 1) OVER (ORDER BY trip_year)), LAG(num_trips, 1) OVER (ORDER BY trip_year)) * 100 AS year_over_year_growth_percent,\n",
        "    LAG(num_trips, 1) OVER (ORDER BY trip_year) AS prev_year_num_trips\n",
        "FROM\n",
        "    YearlyTripCount\n",
        "ORDER BY\n",
        "    trip_year;"
      ],
      "metadata": {
        "id": "AcS_FqPI9RB-"
      },
      "execution_count": null,
      "outputs": []
    },
    {
      "cell_type": "markdown",
      "source": [
        "# Trends"
      ],
      "metadata": {
        "id": "NByCAolZDMSG"
      }
    },
    {
      "cell_type": "markdown",
      "source": [
        "**Average Number of Trips per Month**"
      ],
      "metadata": {
        "id": "1HAS9Su5_vig"
      }
    },
    {
      "cell_type": "code",
      "metadata": {
        "id": "4a0d017b"
      },
      "source": [
        "%%bigquery --project directed-bongo-471119-d1\n",
        "SELECT\n",
        "    EXTRACT(MONTH FROM starttime) AS trip_month,\n",
        "    COUNT(*) AS num_trips\n",
        "FROM\n",
        "    `bigquery-public-data.new_york.citibike_trips`\n",
        "WHERE\n",
        "    starttime IS NOT NULL\n",
        "GROUP BY\n",
        "    trip_month\n",
        "ORDER BY\n",
        "    trip_month;"
      ],
      "execution_count": null,
      "outputs": []
    },
    {
      "cell_type": "markdown",
      "source": [
        "**Net Change in Bikes at a Station**"
      ],
      "metadata": {
        "id": "cCXkhl3J_0fM"
      }
    },
    {
      "cell_type": "code",
      "source": [
        "%%bigquery --project directed-bongo-471119-d1\n",
        "WITH StationActivity AS (\n",
        "    SELECT\n",
        "        start_station_name AS station_name,\n",
        "        COUNT(*) AS num_starts\n",
        "    FROM\n",
        "        `bigquery-public-data.new_york.citibike_trips`\n",
        "    WHERE\n",
        "        start_station_name IS NOT NULL\n",
        "    GROUP BY\n",
        "        station_name\n",
        "),\n",
        "StationEnds AS (\n",
        "    SELECT\n",
        "        end_station_name AS station_name,\n",
        "        COUNT(*) AS num_ends\n",
        "    FROM\n",
        "        `bigquery-public-data.new_york.citibike_trips`\n",
        "    WHERE\n",
        "        end_station_name IS NOT NULL\n",
        "    GROUP BY\n",
        "        station_name\n",
        ")\n",
        "SELECT\n",
        "    sa.station_name,\n",
        "    IFNULL(se.num_ends, 0) - IFNULL(sa.num_starts, 0) AS net_change_in_bikes\n",
        "FROM\n",
        "    StationActivity sa\n",
        "FULL OUTER JOIN\n",
        "    StationEnds se ON sa.station_name = se.station_name\n",
        "ORDER BY\n",
        "    net_change_in_bikes DESC\n",
        "LIMIT 10;"
      ],
      "metadata": {
        "id": "KOhED5TO_h1J"
      },
      "execution_count": null,
      "outputs": []
    },
    {
      "cell_type": "markdown",
      "source": [
        "# Product Category - Most Popular Routes"
      ],
      "metadata": {
        "id": "XiW17TRFD0ja"
      }
    },
    {
      "cell_type": "code",
      "source": [
        "%%bigquery popular_routes_df --project directed-bongo-471119-d1\n",
        "SELECT\n",
        "    start_station_name,\n",
        "    end_station_name,\n",
        "    COUNT(*) AS route_count\n",
        "FROM\n",
        "    `bigquery-public-data.new_york.citibike_trips`\n",
        "WHERE\n",
        "    start_station_name IS NOT NULL AND end_station_name IS NOT NULL\n",
        "GROUP BY\n",
        "    start_station_name,\n",
        "    end_station_name\n",
        "ORDER BY\n",
        "    route_count DESC\n",
        "LIMIT 15;"
      ],
      "metadata": {
        "id": "PoNO0lJ5ExYX"
      },
      "execution_count": null,
      "outputs": []
    },
    {
      "cell_type": "code",
      "source": [
        "popular_routes_df.head()"
      ],
      "metadata": {
        "id": "Z6aniUiAJqtv"
      },
      "execution_count": null,
      "outputs": []
    },
    {
      "cell_type": "code",
      "metadata": {
        "id": "24fb10cf"
      },
      "source": [
        "# Get the top 5 routes from the DataFrame\n",
        "top_5_routes = popular_routes_df.head(5)\n",
        "\n",
        "# Create a list of tuples for the popular routes\n",
        "popular_route_list = list(top_5_routes[['start_station_name', 'end_station_name']].itertuples(index=False, name=None))\n",
        "\n",
        "# Construct the WHERE clause for the SQL query\n",
        "where_clause = \" OR \".join([f\"(start_station_name = '{start}' AND end_station_name = '{end}')\" for start, end in popular_route_list])\n",
        "\n",
        "# Construct the full SQL query\n",
        "sql_query = f\"\"\"\n",
        "SELECT\n",
        "    start_station_name,\n",
        "    end_station_name,\n",
        "    birth_year,\n",
        "    starttime\n",
        "FROM\n",
        "    `bigquery-public-data.new_york.citibike_trips`\n",
        "WHERE\n",
        "    birth_year IS NOT NULL AND birth_year > 1900 AND ({where_clause})\n",
        "\"\"\""
      ],
      "execution_count": null,
      "outputs": []
    },
    {
      "cell_type": "code",
      "metadata": {
        "collapsed": true,
        "id": "22706008"
      },
      "source": [
        "from google.cloud import bigquery\n",
        "\n",
        "project_id = 'directed-bongo-471119-d1'\n",
        "client = bigquery.Client(project=project_id)\n",
        "\n",
        "query_job = client.query(sql_query)\n",
        "trips_for_popular_routes_df = query_job.to_dataframe()\n",
        "\n",
        "display(trips_for_popular_routes_df.head())"
      ],
      "execution_count": null,
      "outputs": []
    },
    {
      "cell_type": "code",
      "metadata": {
        "id": "9a6b826a"
      },
      "source": [
        "import pandas as pd\n",
        "from datetime import datetime\n",
        "\n",
        "# Calculate the current year\n",
        "current_year = datetime.now().year\n",
        "\n",
        "# Calculate the age for each trip\n",
        "trips_for_popular_routes_df['age'] = current_year - trips_for_popular_routes_df['birth_year']\n",
        "\n",
        "# Display the DataFrame with the new age column\n",
        "display(trips_for_popular_routes_df.head())"
      ],
      "execution_count": null,
      "outputs": []
    },
    {
      "cell_type": "code",
      "metadata": {
        "id": "97eea568"
      },
      "source": [
        "# Group the DataFrame by start and end station names\n",
        "grouped_by_route = trips_for_popular_routes_df.groupby(['start_station_name', 'end_station_name'])"
      ],
      "execution_count": null,
      "outputs": []
    },
    {
      "cell_type": "code",
      "metadata": {
        "id": "cbfe127a"
      },
      "source": [
        "import matplotlib.pyplot as plt\n",
        "import seaborn as sns\n",
        "\n",
        "# Create age distributions for each route\n",
        "for name, group in grouped_by_route:\n",
        "    plt.figure(figsize=(10, 6))\n",
        "    sns.histplot(data=group, x='age', kde=True, bins=20)\n",
        "    plt.title(f'Age Distribution for Route: {name[0]} to {name[1]}')\n",
        "    plt.xlabel('Age')\n",
        "    plt.ylabel('Frequency')\n",
        "    plt.show()"
      ],
      "execution_count": null,
      "outputs": []
    },
    {
      "cell_type": "markdown",
      "source": [
        "# Customer Segment - Gender"
      ],
      "metadata": {
        "id": "v_FCJtEYvEI2"
      }
    },
    {
      "cell_type": "code",
      "metadata": {
        "id": "60cab96c"
      },
      "source": [
        "%%bigquery gender_counts_df --project directed-bongo-471119-d1\n",
        "SELECT\n",
        "    gender,\n",
        "    COUNT(*) AS num_riders\n",
        "FROM\n",
        "    `bigquery-public-data.new_york.citibike_trips`\n",
        "WHERE\n",
        "    gender IS NOT NULL\n",
        "GROUP BY\n",
        "    gender;"
      ],
      "execution_count": null,
      "outputs": []
    },
    {
      "cell_type": "code",
      "source": [
        "import matplotlib.pyplot as plt\n",
        "import seaborn as sns\n",
        "\n",
        "# Map gender codes to labels (1: Male, 2: Female)\n",
        "#gender_counts_df['gender_label'] = gender_counts_df['gender'].map({1: 'male', 2: 'female', 3: 'unknown'})\n",
        "\n",
        "# Create the bar chart\n",
        "plt.figure(figsize=(8, 6))\n",
        "sns.barplot(x='gender', y='num_riders', data=gender_counts_df)\n",
        "plt.title('Gender of Citibike Riders')\n",
        "plt.xlabel('Gender')\n",
        "plt.ylabel('Number of Riders')\n",
        "plt.show()"
      ],
      "metadata": {
        "collapsed": true,
        "id": "EDOClBnpth3_"
      },
      "execution_count": null,
      "outputs": []
    },
    {
      "cell_type": "markdown",
      "source": [
        "# Validate"
      ],
      "metadata": {
        "id": "d6HNoExB_ihF"
      }
    },
    {
      "cell_type": "markdown",
      "source": [
        "**Cross Checks - Alternative Queries**\n",
        "\n",
        "Cross-check for Average Trip Duration: Calculate Median Trip Duration"
      ],
      "metadata": {
        "id": "6OrHoD_IEdkJ"
      }
    },
    {
      "cell_type": "code",
      "source": [
        "%%bigquery --project directed-bongo-471119-d1\n",
        "WITH ordered_trip_dur AS (\n",
        "  SELECT tripduration,\n",
        "  ROW_NUMBER() OVER (ORDER BY tripduration) AS row_num,\n",
        "  COUNT(*) OVER () AS total_rows\n",
        "  FROM `bigquery-public-data.new_york.citibike_trips`\n",
        ")\n",
        "SELECT AVG(tripduration) as median_trip_duration\n",
        "FROM ordered_trip_dur\n",
        "WHERE row_num IN (FLOOR((total_rows + 1) / 2), FLOOR((total_rows + 2) / 2));"
      ],
      "metadata": {
        "id": "oUMxCXM-UStr"
      },
      "execution_count": null,
      "outputs": []
    },
    {
      "cell_type": "markdown",
      "metadata": {
        "id": "8a78517c"
      },
      "source": [
        "Cross-check for Most Popular Ending Station: Calculate Most Popular Starting Station"
      ]
    },
    {
      "cell_type": "code",
      "metadata": {
        "id": "fd3ec7e8"
      },
      "source": [
        "%%bigquery --project directed-bongo-471119-d1\n",
        "SELECT\n",
        "    start_station_name,\n",
        "    COUNT(*) AS trip_count\n",
        "FROM\n",
        "    `bigquery-public-data.new_york.citibike_trips`\n",
        "WHERE\n",
        "    start_station_name IS NOT NULL\n",
        "GROUP BY\n",
        "    start_station_name\n",
        "ORDER BY\n",
        "    trip_count DESC\n",
        "LIMIT 15;"
      ],
      "execution_count": null,
      "outputs": []
    },
    {
      "cell_type": "markdown",
      "source": [
        "**Inaccurate Age Calculation**\n",
        "\n",
        "In the Product Category Segment, age of customers was calcuated using: current_year - birth_year. While this correctly calculates the current age of the customer, it does not accurately represent their age at the time they took a ride on one of New York's CitiBikes. We want to know the ages of our customers at the time of their trips, so we will adjust the calculation below.\n",
        "\n",
        "\n"
      ],
      "metadata": {
        "id": "kpWoFxq-_lfJ"
      }
    },
    {
      "cell_type": "code",
      "source": [
        "import pandas as pd\n",
        "\n",
        "# Ensure the 'starttime' column is in datetime format (if it's not already)\n",
        "trips_for_popular_routes_df['starttime'] = pd.to_datetime(trips_for_popular_routes_df['starttime'])\n",
        "\n",
        "# Extract the year from the 'starttime' column\n",
        "trips_for_popular_routes_df['start_year'] = trips_for_popular_routes_df['starttime'].dt.year\n",
        "\n",
        "# Display the DataFrame with the new 'start_year' column\n",
        "display(trips_for_popular_routes_df.head())"
      ],
      "metadata": {
        "id": "NrHZb30xC_3l"
      },
      "execution_count": null,
      "outputs": []
    },
    {
      "cell_type": "code",
      "metadata": {
        "id": "DYA2GL9yBU7E"
      },
      "source": [
        "from datetime import datetime\n",
        "\n",
        "# Calculate the current year\n",
        "current_year = datetime.now().year\n",
        "\n",
        "# Calculate the age for each trip\n",
        "trips_for_popular_routes_df['age'] = trips_for_popular_routes_df['start_year'] - trips_for_popular_routes_df['birth_year']\n",
        "\n",
        "# Display the DataFrame with the new age column\n",
        "display(trips_for_popular_routes_df.head())"
      ],
      "execution_count": null,
      "outputs": []
    },
    {
      "cell_type": "code",
      "metadata": {
        "id": "3If-DbRIBU7E"
      },
      "source": [
        "# Group the DataFrame by start and end station names\n",
        "grouped_by_route = trips_for_popular_routes_df.groupby(['start_station_name', 'end_station_name'])"
      ],
      "execution_count": null,
      "outputs": []
    },
    {
      "cell_type": "code",
      "metadata": {
        "collapsed": true,
        "id": "lSNWD5xdBU7G"
      },
      "source": [
        "import matplotlib.pyplot as plt\n",
        "import seaborn as sns\n",
        "\n",
        "# Create age distributions for each route\n",
        "for name, group in grouped_by_route:\n",
        "    plt.figure(figsize=(10, 6))\n",
        "    sns.histplot(data=group, x='age', kde=True, bins=20)\n",
        "    plt.title(f'Age Distribution for Route: {name[0]} to {name[1]}')\n",
        "    plt.xlabel('Age')\n",
        "    plt.ylabel('Frequency')\n",
        "    plt.show()"
      ],
      "execution_count": null,
      "outputs": []
    },
    {
      "cell_type": "markdown",
      "source": [
        "# Extend"
      ],
      "metadata": {
        "id": "86pGvtDLWIx5"
      }
    },
    {
      "cell_type": "markdown",
      "metadata": {
        "id": "26966320"
      },
      "source": [
        "**Create an interactive plotly chart to display the distribution of tripduration in minutes for a given route (unique combination of start_station_id and end_station_id).**"
      ]
    },
    {
      "cell_type": "code",
      "metadata": {
        "id": "f5cd40fb"
      },
      "source": [
        "# Define the start and end station IDs for the chosen route\n",
        "target_start_station_id = 2006\n",
        "target_end_station_id = 2006"
      ],
      "execution_count": null,
      "outputs": []
    },
    {
      "cell_type": "code",
      "metadata": {
        "id": "c7371e9e"
      },
      "source": [
        "sql_tripduration = f\"\"\"\n",
        "SELECT\n",
        "    tripduration\n",
        "FROM\n",
        "    `bigquery-public-data.new_york.citibike_trips`\n",
        "WHERE\n",
        "    start_station_id = {target_start_station_id} AND end_station_id = {target_end_station_id}\n",
        "\"\"\"\n",
        "\n",
        "query_job = client.query(sql_tripduration)"
      ],
      "execution_count": null,
      "outputs": []
    },
    {
      "cell_type": "code",
      "metadata": {
        "collapsed": true,
        "id": "8dd249c9"
      },
      "source": [
        "tripduration_df = query_job.to_dataframe()\n",
        "display(tripduration_df.head())"
      ],
      "execution_count": null,
      "outputs": []
    },
    {
      "cell_type": "code",
      "metadata": {
        "collapsed": true,
        "id": "6c53bd54"
      },
      "source": [
        "#transform trip duration to minutes\n",
        "tripduration_df['tripduration_minutes'] = tripduration_df['tripduration'] / 60\n",
        "display(tripduration_df.head())"
      ],
      "execution_count": null,
      "outputs": []
    },
    {
      "cell_type": "code",
      "metadata": {
        "id": "e8322b63"
      },
      "source": [
        "import plotly.express as px\n",
        "fig = px.histogram(tripduration_df, x='tripduration_minutes', title=f'Trip Duration for Route {target_start_station_id} to {target_end_station_id} [excluded over 100 minutes]')\n",
        "fig.update_layout(xaxis_title='Trip Duration (minutes)', yaxis_title='Frequency')\n",
        "fig.update_layout(xaxis_range=[0,100])\n",
        "fig.show()"
      ],
      "execution_count": null,
      "outputs": []
    },
    {
      "cell_type": "markdown",
      "source": [
        "**Recommendations**"
      ],
      "metadata": {
        "id": "QaWOrOJ4AoDB"
      }
    },
    {
      "cell_type": "markdown",
      "source": [
        "\n",
        "\n",
        "*   We should focus advertising efforts toward the female demographic, since the majority of our customers are male.  \n",
        "*   We need to ensure the appropriate number of bikes are stocked at each of our stations, taking into account the most popular routes and an imbalance created by different popular start stations and end stations (bikes being deposited in one place and needed to meet demand in another).\n",
        "\n",
        "\n"
      ],
      "metadata": {
        "id": "JDehqqEYArUf"
      }
    }
  ],
  "metadata": {
    "colab": {
      "provenance": [],
      "collapsed_sections": [
        "v_FCJtEYvEI2"
      ],
      "include_colab_link": true
    },
    "language_info": {
      "name": "python"
    },
    "kernelspec": {
      "name": "python3",
      "display_name": "Python 3"
    }
  },
  "nbformat": 4,
  "nbformat_minor": 0
}